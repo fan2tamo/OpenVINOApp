{
 "cells": [
  {
   "cell_type": "code",
   "execution_count": 1,
   "metadata": {
    "ExecuteTime": {
     "end_time": "2021-01-26T15:12:57.726536Z",
     "start_time": "2021-01-26T15:12:55.964950Z"
    }
   },
   "outputs": [],
   "source": [
    "from keras.datasets import mnist\n",
    "from keras.utils import to_categorical\n",
    "from keras.layers import Dense, Convolution2D, MaxPooling2D, GlobalAveragePooling2D, Flatten, Input, Activation, Add, Dropout, BatchNormalization\n",
    "from keras import Model\n",
    "from keras.callbacks import EarlyStopping\n",
    "from keras.optimizers import Adam\n",
    "import keras2onnx\n",
    "from keras2onnx import convert_keras\n",
    "from onnx import save_model\n",
    "import numpy as np\n",
    "from tensorflow.python.keras import backend as K"
   ]
  },
  {
   "cell_type": "markdown",
   "metadata": {},
   "source": [
    "# 接続されているGPUを確認"
   ]
  },
  {
   "cell_type": "code",
   "execution_count": 2,
   "metadata": {
    "ExecuteTime": {
     "end_time": "2021-01-26T15:12:58.239204Z",
     "start_time": "2021-01-26T15:12:57.726536Z"
    }
   },
   "outputs": [
    {
     "name": "stdout",
     "output_type": "stream",
     "text": [
      "*** isGPU == True ***\n",
      "[name: \"/device:CPU:0\"\n",
      "device_type: \"CPU\"\n",
      "memory_limit: 268435456\n",
      "locality {\n",
      "}\n",
      "incarnation: 15922133263986508360\n",
      ", name: \"/device:XLA_CPU:0\"\n",
      "device_type: \"XLA_CPU\"\n",
      "memory_limit: 17179869184\n",
      "locality {\n",
      "}\n",
      "incarnation: 4859503510347571589\n",
      "physical_device_desc: \"device: XLA_CPU device\"\n",
      ", name: \"/device:GPU:0\"\n",
      "device_type: \"GPU\"\n",
      "memory_limit: 46988144128\n",
      "locality {\n",
      "  bus_id: 1\n",
      "  links {\n",
      "  }\n",
      "}\n",
      "incarnation: 6518903378289643123\n",
      "physical_device_desc: \"device: 0, name: Quadro RTX 8000, pci bus id: 0000:01:00.0, compute capability: 7.5\"\n",
      ", name: \"/device:XLA_GPU:0\"\n",
      "device_type: \"XLA_GPU\"\n",
      "memory_limit: 17179869184\n",
      "locality {\n",
      "}\n",
      "incarnation: 9437520184064571335\n",
      "physical_device_desc: \"device: XLA_GPU device\"\n",
      "]\n"
     ]
    }
   ],
   "source": [
    "from tensorflow.python.client import device_lib\n",
    "deviceStr = str(device_lib.list_local_devices())\n",
    "isGPU = False\n",
    "if \"GPU\" in deviceStr:\n",
    "    isGPU = True\n",
    "\n",
    "print(\"*** isGPU == {} ***\".format(isGPU))\n",
    "print(deviceStr)"
   ]
  },
  {
   "cell_type": "markdown",
   "metadata": {},
   "source": [
    "# データ生成"
   ]
  },
  {
   "cell_type": "code",
   "execution_count": 3,
   "metadata": {
    "ExecuteTime": {
     "end_time": "2021-01-26T15:12:58.851982Z",
     "start_time": "2021-01-26T15:12:58.438591Z"
    }
   },
   "outputs": [],
   "source": [
    "# データ取得\n",
    "(x_train, y_train), (x_test, y_test) = mnist.load_data()\n",
    "\n",
    "x_train_shape = x_train.shape\n",
    "x_test_shape = x_test.shape\n",
    "\n",
    "# reshape([?, 28, 28] -> [?, 1, 28, 28])\n",
    "x_train = x_train.reshape(x_train_shape[0], 1, x_train_shape[1], x_train_shape[2])\n",
    "x_test = x_test.reshape(x_test_shape[0], 1, x_test_shape[1], x_test_shape[2])\n",
    "\n",
    "# データの色情報を1次元から3次元に拡張([?, 1, 28, 28] -> [?, 3, 28, 28])\n",
    "# グレースケールからカラーに拡張することになるが、色情報は同じ値としている\n",
    "x_train = np.tile(x_train, (1,3,1,1))\n",
    "x_test = np.tile(x_test, (1,3,1,1))\n",
    "\n",
    "if isGPU:\n",
    "    data_format = \"channels_first\"\n",
    "    input_shape = (3, 28, 28)\n",
    "\n",
    "else:\n",
    "    data_format = \"channels_last\"\n",
    "    input_shape = (28, 28, 3)\n",
    "    x_train = np.transpose(x_train, [0,2,3,1])\n",
    "    x_test  = np.transpose(x_test,  [0,2,3,1])\n",
    "\n",
    "x_train = x_train.astype('float32')\n",
    "x_test = x_test.astype('float32')\n",
    "x_train /= 255\n",
    "x_test /= 255\n",
    "\n",
    "num_classes = 10\n",
    "# convert class vectors to binary class matrices\n",
    "y_train = to_categorical(y_train, num_classes)\n",
    "y_test = to_categorical(y_test, num_classes)"
   ]
  },
  {
   "cell_type": "markdown",
   "metadata": {},
   "source": [
    "# ネットワーク定義"
   ]
  },
  {
   "cell_type": "code",
   "execution_count": 4,
   "metadata": {
    "ExecuteTime": {
     "end_time": "2021-01-26T15:13:00.650632Z",
     "start_time": "2021-01-26T15:12:59.350831Z"
    }
   },
   "outputs": [],
   "source": [
    "input_layer = Input(shape=input_shape)\n",
    "x = Convolution2D(32, kernel_size=(3, 3), activation='relu', kernel_initializer='he_normal', input_shape=input_shape, data_format=data_format)(input_layer)\n",
    "x = Convolution2D(32, 3, activation='relu', kernel_initializer='he_normal', data_format=data_format)(x)\n",
    "x = MaxPooling2D(pool_size=(2, 2), data_format=data_format)(x)\n",
    "\n",
    "if isGPU:\n",
    "    x = BatchNormalization(axis=1)(x)\n",
    "else:\n",
    "    x = BatchNormalization(axis=-1)(x)\n",
    "\n",
    "x = Convolution2D(128, 3, activation='relu', kernel_initializer='he_normal', data_format=data_format)(x)\n",
    "x = Convolution2D(128, 3, activation='relu', kernel_initializer='he_normal', data_format=data_format)(x)\n",
    "x = MaxPooling2D(pool_size=(2, 2), data_format=data_format)(x)\n",
    "\n",
    "x = Flatten(data_format=data_format)(x)\n",
    "x = Dense(1024, activation='relu')(x)\n",
    "x = Dropout(0.2)(x)\n",
    "x = Dense(128, activation='relu')(x)\n",
    "output = Dense(num_classes, activation='softmax')(x)\n",
    "\n",
    "model = Model(input_layer, output)\n",
    "\n",
    "model.compile(loss='categorical_crossentropy',\n",
    "              optimizer=Adam(),\n",
    "              metrics=['accuracy'])"
   ]
  },
  {
   "cell_type": "markdown",
   "metadata": {
    "ExecuteTime": {
     "end_time": "2021-01-25T14:11:08.595199Z",
     "start_time": "2021-01-25T14:11:08.567775Z"
    }
   },
   "source": [
    "# 学習"
   ]
  },
  {
   "cell_type": "code",
   "execution_count": 5,
   "metadata": {
    "ExecuteTime": {
     "end_time": "2021-01-26T15:13:18.488843Z",
     "start_time": "2021-01-26T15:13:00.650632Z"
    },
    "scrolled": true
   },
   "outputs": [
    {
     "name": "stdout",
     "output_type": "stream",
     "text": [
      "Epoch 1/30\n",
      "59/59 [==============================] - 2s 26ms/step - loss: 0.7977 - accuracy: 0.8120 - val_loss: 0.3584 - val_accuracy: 0.9094\n",
      "Epoch 2/30\n",
      "59/59 [==============================] - 1s 20ms/step - loss: 0.0628 - accuracy: 0.9803 - val_loss: 0.1070 - val_accuracy: 0.9803\n",
      "Epoch 3/30\n",
      "59/59 [==============================] - 1s 20ms/step - loss: 0.0390 - accuracy: 0.9881 - val_loss: 0.0505 - val_accuracy: 0.9873\n",
      "Epoch 4/30\n",
      "59/59 [==============================] - 1s 20ms/step - loss: 0.0284 - accuracy: 0.9912 - val_loss: 0.0420 - val_accuracy: 0.9884\n",
      "Epoch 5/30\n",
      "59/59 [==============================] - 1s 21ms/step - loss: 0.0205 - accuracy: 0.9938 - val_loss: 0.0303 - val_accuracy: 0.9914\n",
      "Epoch 6/30\n",
      "59/59 [==============================] - 1s 20ms/step - loss: 0.0148 - accuracy: 0.9954 - val_loss: 0.0302 - val_accuracy: 0.9902\n",
      "Epoch 7/30\n",
      "59/59 [==============================] - 1s 21ms/step - loss: 0.0123 - accuracy: 0.9961 - val_loss: 0.0329 - val_accuracy: 0.9898\n",
      "Epoch 8/30\n",
      "59/59 [==============================] - 1s 21ms/step - loss: 0.0094 - accuracy: 0.9970 - val_loss: 0.0246 - val_accuracy: 0.9918\n",
      "Epoch 9/30\n",
      "59/59 [==============================] - 1s 21ms/step - loss: 0.0059 - accuracy: 0.9981 - val_loss: 0.0272 - val_accuracy: 0.9925\n",
      "Epoch 10/30\n",
      "59/59 [==============================] - 1s 21ms/step - loss: 0.0068 - accuracy: 0.9977 - val_loss: 0.0295 - val_accuracy: 0.9914\n",
      "Epoch 11/30\n",
      "59/59 [==============================] - 1s 20ms/step - loss: 0.0044 - accuracy: 0.9988 - val_loss: 0.0274 - val_accuracy: 0.9924\n",
      "Epoch 12/30\n",
      "59/59 [==============================] - 1s 21ms/step - loss: 0.0053 - accuracy: 0.9980 - val_loss: 0.0296 - val_accuracy: 0.9917\n",
      "Epoch 13/30\n",
      "59/59 [==============================] - 1s 21ms/step - loss: 0.0041 - accuracy: 0.9986 - val_loss: 0.0333 - val_accuracy: 0.9909\n"
     ]
    }
   ],
   "source": [
    "history = model.fit(x_train, y_train,\n",
    "                    batch_size=1024,\n",
    "                    epochs=30,\n",
    "                    verbose=1,\n",
    "                    callbacks=[EarlyStopping(monitor='val_loss', patience=5, verbose=0, mode='auto')],\n",
    "                    validation_data=(x_test, y_test), )"
   ]
  },
  {
   "cell_type": "markdown",
   "metadata": {},
   "source": [
    "# 用意した画像で正しく予測できるのかチェック"
   ]
  },
  {
   "cell_type": "code",
   "execution_count": 6,
   "metadata": {
    "ExecuteTime": {
     "end_time": "2021-01-26T15:13:24.052357Z",
     "start_time": "2021-01-26T15:13:23.701317Z"
    }
   },
   "outputs": [
    {
     "name": "stdout",
     "output_type": "stream",
     "text": [
      "-------   OpenVINOApp\\OpenVINOAppCpp\\Data\\Image\\img_0.png  -----------\n",
      "[0] = 1.0000\n",
      "[1] = 0.0000\n",
      "[2] = 0.0000\n",
      "[3] = 0.0000\n",
      "[4] = 0.0000\n",
      "[5] = 0.0000\n",
      "[6] = 0.0000\n",
      "[7] = 0.0000\n",
      "[8] = 0.0000\n",
      "[9] = 0.0000\n",
      "-------   OpenVINOApp\\OpenVINOAppCpp\\Data\\Image\\img_1.png  -----------\n",
      "[0] = 0.0000\n",
      "[1] = 0.9997\n",
      "[2] = 0.0000\n",
      "[3] = 0.0000\n",
      "[4] = 0.0000\n",
      "[5] = 0.0000\n",
      "[6] = 0.0000\n",
      "[7] = 0.0002\n",
      "[8] = 0.0000\n",
      "[9] = 0.0001\n",
      "-------   OpenVINOApp\\OpenVINOAppCpp\\Data\\Image\\img_2.png  -----------\n",
      "[0] = 0.0000\n",
      "[1] = 0.0000\n",
      "[2] = 1.0000\n",
      "[3] = 0.0000\n",
      "[4] = 0.0000\n",
      "[5] = 0.0000\n",
      "[6] = 0.0000\n",
      "[7] = 0.0000\n",
      "[8] = 0.0000\n",
      "[9] = 0.0000\n",
      "-------   OpenVINOApp\\OpenVINOAppCpp\\Data\\Image\\img_3.png  -----------\n",
      "[0] = 0.0000\n",
      "[1] = 0.0000\n",
      "[2] = 0.0000\n",
      "[3] = 1.0000\n",
      "[4] = 0.0000\n",
      "[5] = 0.0000\n",
      "[6] = 0.0000\n",
      "[7] = 0.0000\n",
      "[8] = 0.0000\n",
      "[9] = 0.0000\n",
      "-------   OpenVINOApp\\OpenVINOAppCpp\\Data\\Image\\img_4.png  -----------\n",
      "[0] = 0.0000\n",
      "[1] = 0.0000\n",
      "[2] = 0.0000\n",
      "[3] = 0.0000\n",
      "[4] = 1.0000\n",
      "[5] = 0.0000\n",
      "[6] = 0.0000\n",
      "[7] = 0.0000\n",
      "[8] = 0.0000\n",
      "[9] = 0.0000\n",
      "-------   OpenVINOApp\\OpenVINOAppCpp\\Data\\Image\\img_5.png  -----------\n",
      "[0] = 0.0000\n",
      "[1] = 0.0000\n",
      "[2] = 0.0000\n",
      "[3] = 0.0000\n",
      "[4] = 0.0000\n",
      "[5] = 1.0000\n",
      "[6] = 0.0000\n",
      "[7] = 0.0000\n",
      "[8] = 0.0000\n",
      "[9] = 0.0000\n",
      "-------   OpenVINOApp\\OpenVINOAppCpp\\Data\\Image\\img_6.png  -----------\n",
      "[0] = 0.0000\n",
      "[1] = 0.0000\n",
      "[2] = 0.0000\n",
      "[3] = 0.0000\n",
      "[4] = 0.0000\n",
      "[5] = 0.0000\n",
      "[6] = 1.0000\n",
      "[7] = 0.0000\n",
      "[8] = 0.0000\n",
      "[9] = 0.0000\n",
      "-------   OpenVINOApp\\OpenVINOAppCpp\\Data\\Image\\img_7.png  -----------\n",
      "[0] = 0.0000\n",
      "[1] = 0.0000\n",
      "[2] = 0.0000\n",
      "[3] = 0.0000\n",
      "[4] = 0.0000\n",
      "[5] = 0.0000\n",
      "[6] = 0.0000\n",
      "[7] = 1.0000\n",
      "[8] = 0.0000\n",
      "[9] = 0.0000\n",
      "-------   OpenVINOApp\\OpenVINOAppCpp\\Data\\Image\\img_8.png  -----------\n",
      "[0] = 0.0000\n",
      "[1] = 0.0000\n",
      "[2] = 0.0000\n",
      "[3] = 0.0001\n",
      "[4] = 0.0018\n",
      "[5] = 0.0004\n",
      "[6] = 0.0000\n",
      "[7] = 0.0000\n",
      "[8] = 0.9975\n",
      "[9] = 0.0001\n",
      "-------   OpenVINOApp\\OpenVINOAppCpp\\Data\\Image\\img_9.png  -----------\n",
      "[0] = 0.0000\n",
      "[1] = 0.0000\n",
      "[2] = 0.0000\n",
      "[3] = 0.0000\n",
      "[4] = 0.0017\n",
      "[5] = 0.0000\n",
      "[6] = 0.0000\n",
      "[7] = 0.0000\n",
      "[8] = 0.0001\n",
      "[9] = 0.9982\n"
     ]
    }
   ],
   "source": [
    "import  glob\n",
    "import cv2\n",
    "imageFilePaths = glob.glob(\"\"\"OpenVINOApp\\OpenVINOAppCpp\\Data\\Image\\*.png\"\"\")\n",
    "\n",
    "for imageFilePath in imageFilePaths:\n",
    "    image = cv2.imread(imageFilePath)\n",
    "    \n",
    "    if isGPU:\n",
    "        image = np.transpose(image, [2,0,1]) \n",
    "        image = image.reshape(1,3,28,28)\n",
    "    else:\n",
    "        image = image.reshape(1,28,28,3)\n",
    "        \n",
    "    image = image / 255.0\n",
    "    outputs = model.predict(image)\n",
    "    print(\"-------   {0}  -----------\".format(imageFilePath))\n",
    "    for i, output in enumerate(outputs[0]):\n",
    "        print(\"[{0}] = {1:.4f}\".format(i, output))"
   ]
  },
  {
   "cell_type": "markdown",
   "metadata": {},
   "source": [
    "# 学習済みモデルの保存"
   ]
  },
  {
   "cell_type": "code",
   "execution_count": 7,
   "metadata": {
    "ExecuteTime": {
     "end_time": "2021-01-26T15:13:46.408767Z",
     "start_time": "2021-01-26T15:13:46.016216Z"
    },
    "scrolled": true
   },
   "outputs": [
    {
     "name": "stderr",
     "output_type": "stream",
     "text": [
      "tf executing eager_mode: True\n",
      "tf.keras model eager_mode: False\n",
      "The ONNX operator number change on the optimization: 33 -> 22\n",
      "The maximum opset needed by this model is only 11.\n"
     ]
    }
   ],
   "source": [
    "# .h5で保存\n",
    "model.save(\"mnist.h5\", save_format=\"h5\")\n",
    "\n",
    "if isGPU:\n",
    "    # .onnxで保存\n",
    "    onnx_model = convert_keras(model, model.name, channel_first_inputs=[1,3,28,28])\n",
    "    save_model(onnx_model, \"mnist.onnx\")\n",
    "    \n",
    "else:\n",
    "    # .pbで保存\n",
    "    import tensorflow as tf\n",
    "    from tensorflow import keras\n",
    "    from tensorflow.python.framework.convert_to_constants import convert_variables_to_constants_v2\n",
    "    \n",
    "    #path of the directory where you want to save your model\n",
    "    frozen_out_path = ''\n",
    "    # name of the .pb file\n",
    "    frozen_graph_filename = \"mnist\"\n",
    "\n",
    "    # Convert Keras model to ConcreteFunction\n",
    "    full_model = tf.function(lambda x: model(x))\n",
    "    full_model = full_model.get_concrete_function(\n",
    "        tf.TensorSpec(model.inputs[0].shape, model.inputs[0].dtype))\n",
    "    # Get frozen ConcreteFunction\n",
    "    frozen_func = convert_variables_to_constants_v2(full_model)\n",
    "    frozen_func.graph.as_graph_def()\n",
    "    layers = [op.name for op in frozen_func.graph.get_operations()]\n",
    "\n",
    "    # Save frozen graph to disk\n",
    "    tf.io.write_graph(graph_or_graph_def=frozen_func.graph,\n",
    "                      logdir=frozen_out_path,\n",
    "                      name=\"mnist.pb\",\n",
    "                      as_text=False)\n",
    "    # Save its text representation\n",
    "    tf.io.write_graph(graph_or_graph_def=frozen_func.graph,\n",
    "                      logdir=frozen_out_path,\n",
    "                      name=\"mnist.pbtxt\",\n",
    "                      as_text=True)"
   ]
  },
  {
   "cell_type": "code",
   "execution_count": null,
   "metadata": {},
   "outputs": [],
   "source": []
  }
 ],
 "metadata": {
  "kernelspec": {
   "display_name": "Python 3",
   "language": "python",
   "name": "python3"
  },
  "language_info": {
   "codemirror_mode": {
    "name": "ipython",
    "version": 3
   },
   "file_extension": ".py",
   "mimetype": "text/x-python",
   "name": "python",
   "nbconvert_exporter": "python",
   "pygments_lexer": "ipython3",
   "version": "3.6.10"
  }
 },
 "nbformat": 4,
 "nbformat_minor": 4
}
