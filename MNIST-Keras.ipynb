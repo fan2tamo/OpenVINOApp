{
 "cells": [
  {
   "cell_type": "code",
   "execution_count": 1,
   "metadata": {
    "ExecuteTime": {
     "end_time": "2021-02-22T02:35:59.780322Z",
     "start_time": "2021-02-22T02:35:57.874808Z"
    }
   },
   "outputs": [],
   "source": [
    "from keras.datasets import mnist\n",
    "from keras.utils import to_categorical\n",
    "from keras.layers import Dense, Convolution2D, MaxPooling2D, Input, BatchNormalization, GlobalAveragePooling2D\n",
    "from keras.layers import ReLU\n",
    "from keras import Model\n",
    "from keras.callbacks import EarlyStopping\n",
    "from keras.optimizers import Adam\n",
    "import keras2onnx\n",
    "from keras2onnx import convert_keras\n",
    "from onnx import save_model\n",
    "import numpy as np\n",
    "from tensorflow.python.keras import backend as K"
   ]
  },
  {
   "cell_type": "markdown",
   "metadata": {},
   "source": [
    "# 接続されているGPUを確認"
   ]
  },
  {
   "cell_type": "code",
   "execution_count": 2,
   "metadata": {
    "ExecuteTime": {
     "end_time": "2021-02-22T02:36:00.327189Z",
     "start_time": "2021-02-22T02:35:59.780322Z"
    }
   },
   "outputs": [
    {
     "name": "stdout",
     "output_type": "stream",
     "text": [
      "*** isGPU == True ***\n",
      "[name: \"/device:CPU:0\"\n",
      "device_type: \"CPU\"\n",
      "memory_limit: 268435456\n",
      "locality {\n",
      "}\n",
      "incarnation: 14438684547275352623\n",
      ", name: \"/device:XLA_CPU:0\"\n",
      "device_type: \"XLA_CPU\"\n",
      "memory_limit: 17179869184\n",
      "locality {\n",
      "}\n",
      "incarnation: 12144340115158744076\n",
      "physical_device_desc: \"device: XLA_CPU device\"\n",
      ", name: \"/device:GPU:0\"\n",
      "device_type: \"GPU\"\n",
      "memory_limit: 46988144128\n",
      "locality {\n",
      "  bus_id: 1\n",
      "  links {\n",
      "  }\n",
      "}\n",
      "incarnation: 7064941866605614399\n",
      "physical_device_desc: \"device: 0, name: Quadro RTX 8000, pci bus id: 0000:01:00.0, compute capability: 7.5\"\n",
      ", name: \"/device:XLA_GPU:0\"\n",
      "device_type: \"XLA_GPU\"\n",
      "memory_limit: 17179869184\n",
      "locality {\n",
      "}\n",
      "incarnation: 13182623459941514631\n",
      "physical_device_desc: \"device: XLA_GPU device\"\n",
      "]\n"
     ]
    }
   ],
   "source": [
    "from tensorflow.python.client import device_lib\n",
    "deviceStr = str(device_lib.list_local_devices())\n",
    "isGPU = False\n",
    "if \"GPU\" in deviceStr:\n",
    "    isGPU = True\n",
    "\n",
    "print(\"*** isGPU == {} ***\".format(isGPU))\n",
    "print(deviceStr)"
   ]
  },
  {
   "cell_type": "markdown",
   "metadata": {},
   "source": [
    "# データ生成"
   ]
  },
  {
   "cell_type": "code",
   "execution_count": 3,
   "metadata": {
    "ExecuteTime": {
     "end_time": "2021-02-22T02:36:01.749574Z",
     "start_time": "2021-02-22T02:36:01.353688Z"
    }
   },
   "outputs": [],
   "source": [
    "# データ取得\n",
    "(x_train, y_train), (x_test, y_test) = mnist.load_data()\n",
    "\n",
    "x_train_shape = x_train.shape\n",
    "x_test_shape = x_test.shape\n",
    "\n",
    "# reshape([?, 28, 28] -> [?, 1, 28, 28])\n",
    "x_train = x_train.reshape(x_train_shape[0], 1, x_train_shape[1], x_train_shape[2])\n",
    "x_test = x_test.reshape(x_test_shape[0], 1, x_test_shape[1], x_test_shape[2])\n",
    "\n",
    "# データの色情報を1次元から3次元に拡張([?, 1, 28, 28] -> [?, 3, 28, 28])\n",
    "# グレースケールからカラーに拡張することになるが、色情報は同じ値としている\n",
    "x_train = np.tile(x_train, (1,3,1,1))\n",
    "x_test = np.tile(x_test, (1,3,1,1))\n",
    "\n",
    "if isGPU:\n",
    "    data_format = \"channels_first\"\n",
    "    input_shape = (3, 28, 28)\n",
    "\n",
    "else:\n",
    "    data_format = \"channels_last\"\n",
    "    input_shape = (28, 28, 3)\n",
    "    x_train = np.transpose(x_train, [0,2,3,1])\n",
    "    x_test  = np.transpose(x_test,  [0,2,3,1])\n",
    "\n",
    "x_train = x_train.astype('float32')\n",
    "x_test = x_test.astype('float32')\n",
    "x_train /= 255\n",
    "x_test /= 255\n",
    "\n",
    "num_classes = 10\n",
    "# convert class vectors to binary class matrices\n",
    "y_train = to_categorical(y_train, num_classes)\n",
    "y_test = to_categorical(y_test, num_classes)"
   ]
  },
  {
   "cell_type": "markdown",
   "metadata": {},
   "source": [
    "# ネットワーク定義"
   ]
  },
  {
   "cell_type": "code",
   "execution_count": 4,
   "metadata": {
    "ExecuteTime": {
     "end_time": "2021-02-22T02:36:20.655501Z",
     "start_time": "2021-02-22T02:36:19.174079Z"
    }
   },
   "outputs": [],
   "source": [
    "def BN(x, gpu):\n",
    "    if gpu:\n",
    "        return BatchNormalization(axis=1)(x)\n",
    "    else:\n",
    "        return BatchNormalization(axis=-1)(x)   \n",
    "    \n",
    "input_layer = Input(shape=input_shape)\n",
    "x = Convolution2D(32, kernel_size=(3, 3), padding=\"same\", input_shape=input_shape, data_format=data_format)(input_layer)\n",
    "x = BN(x, isGPU)\n",
    "x = ReLU()(x)\n",
    "x = Convolution2D(32, kernel_size=(3, 3), padding=\"same\", data_format=data_format)(x)\n",
    "x = BN(x, isGPU)\n",
    "x = ReLU()(x)\n",
    "x = MaxPooling2D(pool_size=(2, 2), padding=\"same\", data_format=data_format)(x)\n",
    "\n",
    "x = Convolution2D(128, kernel_size=(3, 3), padding=\"same\", data_format=data_format)(x)\n",
    "x = BN(x, isGPU)\n",
    "x = ReLU()(x)\n",
    "x  = Convolution2D(128, kernel_size=(3, 3), padding=\"same\", data_format=data_format)(x)\n",
    "x = BN(x, isGPU)\n",
    "x = ReLU()(x)\n",
    "x = MaxPooling2D(pool_size=(2, 2), data_format=data_format)(x)\n",
    "\n",
    "x = Convolution2D(512, kernel_size=(3, 3), padding=\"same\", data_format=data_format)(x)\n",
    "x = BN(x, isGPU)\n",
    "x = ReLU()(x)\n",
    "x  = Convolution2D(512, kernel_size=(3, 3), padding=\"same\", data_format=data_format)(x)\n",
    "x = BN(x, isGPU)\n",
    "x = ReLU()(x)\n",
    "x = MaxPooling2D(pool_size=(2, 2), data_format=data_format)(x)\n",
    "\n",
    "x = GlobalAveragePooling2D(data_format=data_format)(x)\n",
    "x = Dense(128, activation='relu')(x)\n",
    "output = Dense(num_classes, activation='softmax')(x)\n",
    "\n",
    "model = Model(input_layer, output)\n",
    "\n",
    "model.compile(loss='categorical_crossentropy',\n",
    "              optimizer=Adam(),\n",
    "              metrics=['accuracy'])"
   ]
  },
  {
   "cell_type": "markdown",
   "metadata": {
    "ExecuteTime": {
     "end_time": "2021-01-25T14:11:08.595199Z",
     "start_time": "2021-01-25T14:11:08.567775Z"
    }
   },
   "source": [
    "# 学習"
   ]
  },
  {
   "cell_type": "code",
   "execution_count": 5,
   "metadata": {
    "ExecuteTime": {
     "end_time": "2021-02-22T02:38:30.093594Z",
     "start_time": "2021-02-22T02:36:29.443226Z"
    },
    "scrolled": true
   },
   "outputs": [
    {
     "name": "stdout",
     "output_type": "stream",
     "text": [
      "Epoch 1/50\n",
      "59/59 [==============================] - 6s 98ms/step - loss: 0.3990 - accuracy: 0.8946 - val_loss: 4.3407 - val_accuracy: 0.1135\n",
      "Epoch 2/50\n",
      "59/59 [==============================] - 5s 80ms/step - loss: 0.0389 - accuracy: 0.9887 - val_loss: 4.2404 - val_accuracy: 0.1135\n",
      "Epoch 3/50\n",
      "59/59 [==============================] - 5s 80ms/step - loss: 0.0237 - accuracy: 0.9929 - val_loss: 3.3589 - val_accuracy: 0.2036\n",
      "Epoch 4/50\n",
      "59/59 [==============================] - 5s 81ms/step - loss: 0.0169 - accuracy: 0.9950 - val_loss: 2.8160 - val_accuracy: 0.3710\n",
      "Epoch 5/50\n",
      "59/59 [==============================] - 5s 81ms/step - loss: 0.0132 - accuracy: 0.9962 - val_loss: 1.4356 - val_accuracy: 0.5814\n",
      "Epoch 6/50\n",
      "59/59 [==============================] - 5s 81ms/step - loss: 0.0102 - accuracy: 0.9973 - val_loss: 0.6662 - val_accuracy: 0.7463\n",
      "Epoch 7/50\n",
      "59/59 [==============================] - 5s 81ms/step - loss: 0.0072 - accuracy: 0.9981 - val_loss: 0.3132 - val_accuracy: 0.8931\n",
      "Epoch 8/50\n",
      "59/59 [==============================] - 5s 82ms/step - loss: 0.0061 - accuracy: 0.9982 - val_loss: 0.1064 - val_accuracy: 0.9656\n",
      "Epoch 9/50\n",
      "59/59 [==============================] - 5s 81ms/step - loss: 0.0054 - accuracy: 0.9985 - val_loss: 0.0431 - val_accuracy: 0.9861\n",
      "Epoch 10/50\n",
      "59/59 [==============================] - 5s 82ms/step - loss: 0.0030 - accuracy: 0.9993 - val_loss: 0.0738 - val_accuracy: 0.9762\n",
      "Epoch 11/50\n",
      "59/59 [==============================] - 5s 82ms/step - loss: 0.0023 - accuracy: 0.9995 - val_loss: 0.0267 - val_accuracy: 0.9918\n",
      "Epoch 12/50\n",
      "59/59 [==============================] - 5s 82ms/step - loss: 8.1446e-04 - accuracy: 0.9999 - val_loss: 0.0227 - val_accuracy: 0.9933\n",
      "Epoch 13/50\n",
      "59/59 [==============================] - 5s 82ms/step - loss: 2.7371e-04 - accuracy: 1.0000 - val_loss: 0.0184 - val_accuracy: 0.9951\n",
      "Epoch 14/50\n",
      "59/59 [==============================] - 5s 82ms/step - loss: 1.1948e-04 - accuracy: 1.0000 - val_loss: 0.0175 - val_accuracy: 0.9951\n",
      "Epoch 15/50\n",
      "59/59 [==============================] - 5s 82ms/step - loss: 9.1235e-05 - accuracy: 1.0000 - val_loss: 0.0161 - val_accuracy: 0.9954\n",
      "Epoch 16/50\n",
      "59/59 [==============================] - 5s 82ms/step - loss: 7.5523e-05 - accuracy: 1.0000 - val_loss: 0.0157 - val_accuracy: 0.9958\n",
      "Epoch 17/50\n",
      "59/59 [==============================] - 5s 82ms/step - loss: 6.5180e-05 - accuracy: 1.0000 - val_loss: 0.0154 - val_accuracy: 0.9963\n",
      "Epoch 18/50\n",
      "59/59 [==============================] - 5s 82ms/step - loss: 5.7642e-05 - accuracy: 1.0000 - val_loss: 0.0155 - val_accuracy: 0.9961\n",
      "Epoch 19/50\n",
      "59/59 [==============================] - 5s 82ms/step - loss: 5.0805e-05 - accuracy: 1.0000 - val_loss: 0.0153 - val_accuracy: 0.9961\n",
      "Epoch 20/50\n",
      "59/59 [==============================] - 5s 82ms/step - loss: 4.5153e-05 - accuracy: 1.0000 - val_loss: 0.0157 - val_accuracy: 0.9960\n",
      "Epoch 21/50\n",
      "59/59 [==============================] - 5s 82ms/step - loss: 4.1596e-05 - accuracy: 1.0000 - val_loss: 0.0155 - val_accuracy: 0.9962\n",
      "Epoch 22/50\n",
      "59/59 [==============================] - 5s 82ms/step - loss: 3.7937e-05 - accuracy: 1.0000 - val_loss: 0.0155 - val_accuracy: 0.9961\n",
      "Epoch 23/50\n",
      "59/59 [==============================] - 5s 82ms/step - loss: 3.5116e-05 - accuracy: 1.0000 - val_loss: 0.0156 - val_accuracy: 0.9958\n",
      "Epoch 24/50\n",
      "59/59 [==============================] - 5s 82ms/step - loss: 3.1773e-05 - accuracy: 1.0000 - val_loss: 0.0158 - val_accuracy: 0.9963\n"
     ]
    }
   ],
   "source": [
    "history = model.fit(x_train, y_train,\n",
    "                    batch_size=1024,\n",
    "                    epochs=50,\n",
    "                    verbose=1,\n",
    "                    callbacks=[EarlyStopping(monitor='val_loss', patience=5, verbose=0, mode='auto')],\n",
    "                    validation_data=(x_test, y_test), )"
   ]
  },
  {
   "cell_type": "markdown",
   "metadata": {},
   "source": [
    "# 用意した画像で正しく予測できるのかチェック"
   ]
  },
  {
   "cell_type": "code",
   "execution_count": 6,
   "metadata": {
    "ExecuteTime": {
     "end_time": "2021-02-22T02:38:45.172566Z",
     "start_time": "2021-02-22T02:38:44.752179Z"
    }
   },
   "outputs": [
    {
     "name": "stdout",
     "output_type": "stream",
     "text": [
      "-------   OpenVINOApp\\OpenVINOAppCpp\\Data\\Image\\img_0.png  -----------\n",
      "[0] = 1.0000\n",
      "[1] = 0.0000\n",
      "[2] = 0.0000\n",
      "[3] = 0.0000\n",
      "[4] = 0.0000\n",
      "[5] = 0.0000\n",
      "[6] = 0.0000\n",
      "[7] = 0.0000\n",
      "[8] = 0.0000\n",
      "[9] = 0.0000\n",
      "-------   OpenVINOApp\\OpenVINOAppCpp\\Data\\Image\\img_1.png  -----------\n",
      "[0] = 0.0000\n",
      "[1] = 0.9999\n",
      "[2] = 0.0000\n",
      "[3] = 0.0000\n",
      "[4] = 0.0000\n",
      "[5] = 0.0000\n",
      "[6] = 0.0000\n",
      "[7] = 0.0000\n",
      "[8] = 0.0000\n",
      "[9] = 0.0000\n",
      "-------   OpenVINOApp\\OpenVINOAppCpp\\Data\\Image\\img_2.png  -----------\n",
      "[0] = 0.0000\n",
      "[1] = 0.0000\n",
      "[2] = 1.0000\n",
      "[3] = 0.0000\n",
      "[4] = 0.0000\n",
      "[5] = 0.0000\n",
      "[6] = 0.0000\n",
      "[7] = 0.0000\n",
      "[8] = 0.0000\n",
      "[9] = 0.0000\n",
      "-------   OpenVINOApp\\OpenVINOAppCpp\\Data\\Image\\img_3.png  -----------\n",
      "[0] = 0.0000\n",
      "[1] = 0.0000\n",
      "[2] = 0.0000\n",
      "[3] = 1.0000\n",
      "[4] = 0.0000\n",
      "[5] = 0.0000\n",
      "[6] = 0.0000\n",
      "[7] = 0.0000\n",
      "[8] = 0.0000\n",
      "[9] = 0.0000\n",
      "-------   OpenVINOApp\\OpenVINOAppCpp\\Data\\Image\\img_4.png  -----------\n",
      "[0] = 0.0000\n",
      "[1] = 0.0000\n",
      "[2] = 0.0000\n",
      "[3] = 0.0000\n",
      "[4] = 1.0000\n",
      "[5] = 0.0000\n",
      "[6] = 0.0000\n",
      "[7] = 0.0000\n",
      "[8] = 0.0000\n",
      "[9] = 0.0000\n",
      "-------   OpenVINOApp\\OpenVINOAppCpp\\Data\\Image\\img_5.png  -----------\n",
      "[0] = 0.0000\n",
      "[1] = 0.0000\n",
      "[2] = 0.0000\n",
      "[3] = 0.0000\n",
      "[4] = 0.0000\n",
      "[5] = 1.0000\n",
      "[6] = 0.0000\n",
      "[7] = 0.0000\n",
      "[8] = 0.0000\n",
      "[9] = 0.0000\n",
      "-------   OpenVINOApp\\OpenVINOAppCpp\\Data\\Image\\img_6.png  -----------\n",
      "[0] = 0.0000\n",
      "[1] = 0.0000\n",
      "[2] = 0.0000\n",
      "[3] = 0.0000\n",
      "[4] = 0.0000\n",
      "[5] = 0.0000\n",
      "[6] = 1.0000\n",
      "[7] = 0.0000\n",
      "[8] = 0.0000\n",
      "[9] = 0.0000\n",
      "-------   OpenVINOApp\\OpenVINOAppCpp\\Data\\Image\\img_7.png  -----------\n",
      "[0] = 0.0000\n",
      "[1] = 0.0000\n",
      "[2] = 0.0000\n",
      "[3] = 0.0000\n",
      "[4] = 0.0000\n",
      "[5] = 0.0000\n",
      "[6] = 0.0000\n",
      "[7] = 1.0000\n",
      "[8] = 0.0000\n",
      "[9] = 0.0000\n",
      "-------   OpenVINOApp\\OpenVINOAppCpp\\Data\\Image\\img_8.png  -----------\n",
      "[0] = 0.0003\n",
      "[1] = 0.0000\n",
      "[2] = 0.0000\n",
      "[3] = 0.0000\n",
      "[4] = 0.0000\n",
      "[5] = 0.0000\n",
      "[6] = 0.0000\n",
      "[7] = 0.0000\n",
      "[8] = 0.9997\n",
      "[9] = 0.0000\n",
      "-------   OpenVINOApp\\OpenVINOAppCpp\\Data\\Image\\img_9.png  -----------\n",
      "[0] = 0.0000\n",
      "[1] = 0.0000\n",
      "[2] = 0.0000\n",
      "[3] = 0.0000\n",
      "[4] = 0.0000\n",
      "[5] = 0.0000\n",
      "[6] = 0.0000\n",
      "[7] = 0.0000\n",
      "[8] = 0.0000\n",
      "[9] = 1.0000\n"
     ]
    }
   ],
   "source": [
    "import  glob\n",
    "import cv2\n",
    "imageFilePaths = glob.glob(\"\"\"OpenVINOApp\\OpenVINOAppCpp\\Data\\Image\\*.png\"\"\")\n",
    "\n",
    "for imageFilePath in imageFilePaths:\n",
    "    image = cv2.imread(imageFilePath)\n",
    "    \n",
    "    if isGPU:\n",
    "        image = np.transpose(image, [2,0,1]) \n",
    "        image = image.reshape(1,3,28,28)\n",
    "    else:\n",
    "        image = image.reshape(1,28,28,3)\n",
    "        \n",
    "    image = image / 255.0\n",
    "    outputs = model.predict(image)\n",
    "    print(\"-------   {0}  -----------\".format(imageFilePath))\n",
    "    for i, output in enumerate(outputs[0]):\n",
    "        print(\"[{0}] = {1:.4f}\".format(i, output))"
   ]
  },
  {
   "cell_type": "markdown",
   "metadata": {},
   "source": [
    "# 学習済みモデルの保存"
   ]
  },
  {
   "cell_type": "code",
   "execution_count": 7,
   "metadata": {
    "ExecuteTime": {
     "end_time": "2021-02-22T02:39:41.704387Z",
     "start_time": "2021-02-22T02:39:41.158558Z"
    },
    "scrolled": true
   },
   "outputs": [
    {
     "name": "stderr",
     "output_type": "stream",
     "text": [
      "tf executing eager_mode: True\n",
      "tf.keras model eager_mode: False\n",
      "The ONNX operator number change on the optimization: 49 -> 29\n"
     ]
    }
   ],
   "source": [
    "# .h5で保存\n",
    "model.save(\"mnist.h5\", save_format=\"h5\")\n",
    "\n",
    "if isGPU:\n",
    "    # .onnxで保存\n",
    "    onnx_model = convert_keras(model, model.name, channel_first_inputs=[1,3,28,28])\n",
    "    save_model(onnx_model, \"mnist.onnx\")\n",
    "    \n",
    "else:\n",
    "    # .pbで保存\n",
    "    import tensorflow as tf\n",
    "    from tensorflow import keras\n",
    "    from tensorflow.python.framework.convert_to_constants import convert_variables_to_constants_v2\n",
    "    \n",
    "    #path of the directory where you want to save your model\n",
    "    frozen_out_path = ''\n",
    "\n",
    "    # Convert Keras model to ConcreteFunction\n",
    "    full_model = tf.function(lambda x: model(x))\n",
    "    full_model = full_model.get_concrete_function(\n",
    "        tf.TensorSpec(model.inputs[0].shape, model.inputs[0].dtype))\n",
    "    # Get frozen ConcreteFunction\n",
    "    frozen_func = convert_variables_to_constants_v2(full_model)\n",
    "    frozen_func.graph.as_graph_def()\n",
    "    layers = [op.name for op in frozen_func.graph.get_operations()]\n",
    "\n",
    "    # Save frozen graph to disk\n",
    "    tf.io.write_graph(graph_or_graph_def=frozen_func.graph,\n",
    "                      logdir=frozen_out_path,\n",
    "                      name=\"mnist.pb\",\n",
    "                      as_text=False)\n",
    "    # Save its text representation\n",
    "    tf.io.write_graph(graph_or_graph_def=frozen_func.graph,\n",
    "                      logdir=frozen_out_path,\n",
    "                      name=\"mnist.pbtxt\",\n",
    "                      as_text=True)"
   ]
  },
  {
   "cell_type": "code",
   "execution_count": null,
   "metadata": {},
   "outputs": [],
   "source": []
  }
 ],
 "metadata": {
  "kernelspec": {
   "display_name": "Python 3",
   "language": "python",
   "name": "python3"
  },
  "language_info": {
   "codemirror_mode": {
    "name": "ipython",
    "version": 3
   },
   "file_extension": ".py",
   "mimetype": "text/x-python",
   "name": "python",
   "nbconvert_exporter": "python",
   "pygments_lexer": "ipython3",
   "version": "3.6.10"
  }
 },
 "nbformat": 4,
 "nbformat_minor": 4
}
